{
 "cells": [
  {
   "cell_type": "markdown",
   "metadata": {},
   "source": [
    "# [STAT430] - Final Poject\n",
    "# Yaohong Liang"
   ]
  },
  {
   "cell_type": "markdown",
   "metadata": {},
   "source": [
    "## Dataset description\n",
    "\n",
    "We used the flight delay and cancellation data that was collected and published by the DOT's Bureau of Transportation Statistics for this analysis. Here we only use the two datasets: \n",
    "\n",
    "- `airports.csv`\n",
    "- `flights.csv`\n",
    "\n",
    "The `airports.csv` file contains 7 variables and the `flights.csv` file contains 31 variables. We only care about some necessary variables for our analysis. They are listed as the followings:\n",
    "\n",
    "- `AIRLINE`: Airline Identifier\n",
    "- `ORIGIN_AIRPORT`: Starting Airport\n",
    "- `DESTINATION_AIRPORT`: Destination Airport\n",
    "- `AIRPORT`: Airport's Name\n",
    "- `LATITUDE`: Latitude of the Airport\n",
    "- `LONGITUDE`: Longitude of the Airport\n",
    "\n",
    "To obtain an approachable dataset, I used data cleaning and transformation techniques to merge the two datasets. To specify the latitude and longitude for both starting airports and destination airports, I created some new columns: \n",
    "- `LATITUDE_STAR`: Latitude of the Starting Airport\n",
    "- `LATITUDE_END`: Latitude of the Destination Airport\n",
    "- `LONGITUDE_STAR`: Longitude of the Starting Airport\n",
    "- `LONGIITUDE_END`: Longitude of the Destination Airport\n",
    "\n",
    "Eventually, I got a dataset that can be used for our interest."
   ]
  },
  {
   "cell_type": "markdown",
   "metadata": {},
   "source": [
    "## Question of interest\n",
    "\n",
    "The goal of this analysis is to develop a web application that can be used to display all the flight paths for a selected departure airports. For each departure airport that the user selects, our app will plot a graph of the US map with lines representing all the flight paths provided by airlines starting at the selected airport."
   ]
  },
  {
   "cell_type": "markdown",
   "metadata": {},
   "source": [
    "## Testing of the web app\n",
    "\n",
    "I tested my app by choosing an airport that is different from the default one to see whether it specifies the correct location and shows all the flight pahts departing from it. In our case, I chose the one located in Champaign to validate the app. "
   ]
  },
  {
   "cell_type": "code",
   "execution_count": 1,
   "metadata": {
    "scrolled": true
   },
   "outputs": [
    {
     "data": {
      "text/html": [
       "<div>\n",
       "<style scoped>\n",
       "    .dataframe tbody tr th:only-of-type {\n",
       "        vertical-align: middle;\n",
       "    }\n",
       "\n",
       "    .dataframe tbody tr th {\n",
       "        vertical-align: top;\n",
       "    }\n",
       "\n",
       "    .dataframe thead th {\n",
       "        text-align: right;\n",
       "    }\n",
       "</style>\n",
       "<table border=\"1\" class=\"dataframe\">\n",
       "  <thead>\n",
       "    <tr style=\"text-align: right;\">\n",
       "      <th></th>\n",
       "      <th>index</th>\n",
       "      <th>AIRLINE</th>\n",
       "      <th>ORIGIN_AIRPORT</th>\n",
       "      <th>DESTINATION_AIRPORT</th>\n",
       "      <th>AIRPORT</th>\n",
       "      <th>LATITUDE_STAR</th>\n",
       "      <th>LONGITUDE_STAR</th>\n",
       "      <th>LATITUDE_END</th>\n",
       "      <th>LONGITUDE_END</th>\n",
       "      <th>STATE</th>\n",
       "    </tr>\n",
       "  </thead>\n",
       "  <tbody>\n",
       "    <tr>\n",
       "      <th>0</th>\n",
       "      <td>4111</td>\n",
       "      <td>MQ</td>\n",
       "      <td>CMI</td>\n",
       "      <td>DFW</td>\n",
       "      <td>University of Illinois - Willard Airport</td>\n",
       "      <td>40.03925</td>\n",
       "      <td>-88.27806</td>\n",
       "      <td>32.89595</td>\n",
       "      <td>-97.03720</td>\n",
       "      <td>IL</td>\n",
       "    </tr>\n",
       "    <tr>\n",
       "      <th>1</th>\n",
       "      <td>4112</td>\n",
       "      <td>MQ</td>\n",
       "      <td>CMI</td>\n",
       "      <td>ORD</td>\n",
       "      <td>University of Illinois - Willard Airport</td>\n",
       "      <td>40.03925</td>\n",
       "      <td>-88.27806</td>\n",
       "      <td>41.97960</td>\n",
       "      <td>-87.90446</td>\n",
       "      <td>IL</td>\n",
       "    </tr>\n",
       "  </tbody>\n",
       "</table>\n",
       "</div>"
      ],
      "text/plain": [
       "   index AIRLINE ORIGIN_AIRPORT DESTINATION_AIRPORT  \\\n",
       "0   4111      MQ            CMI                 DFW   \n",
       "1   4112      MQ            CMI                 ORD   \n",
       "\n",
       "                                    AIRPORT  LATITUDE_STAR  LONGITUDE_STAR  \\\n",
       "0  University of Illinois - Willard Airport       40.03925       -88.27806   \n",
       "1  University of Illinois - Willard Airport       40.03925       -88.27806   \n",
       "\n",
       "   LATITUDE_END  LONGITUDE_END STATE  \n",
       "0      32.89595      -97.03720    IL  \n",
       "1      41.97960      -87.90446    IL  "
      ]
     },
     "execution_count": 1,
     "metadata": {},
     "output_type": "execute_result"
    }
   ],
   "source": [
    "import pandas as pd\n",
    "import numpy as np\n",
    "import plotly.express as px\n",
    "import geopandas as gpd\n",
    "import plotly.graph_objects as go\n",
    "\n",
    "airports = pd.read_csv(\"airports.csv\")\n",
    "flights = pd.read_csv(\"flights.csv\", low_memory = False)\n",
    "\n",
    "# fill in missing values\n",
    "#airports.loc[airports['LATITUDE'].isnull(),]\n",
    "airports.loc[airports['CITY'] == 'Panama City', 'LATITUDE'] = 8.983333\n",
    "airports.loc[airports['CITY'] == 'Panama City', 'LONGITUDE'] = -79.516670\n",
    "airports.loc[airports['CITY'] == 'Plattsburgh', 'LATITUDE'] = 44.6994873\n",
    "airports.loc[airports['CITY'] == 'Plattsburgh', 'LONGITUDE'] = -73.4529124\n",
    "airports.loc[airports['CITY'] == 'St. Augustine', 'LATITUDE'] = 29.9012\n",
    "airports.loc[airports['CITY'] == 'St. Augustine', 'LONGITUDE'] = -81.3124\n",
    "\n",
    "# get rid of unnessary variables and only include unique combination\n",
    "updated_flights = flights[['AIRLINE', 'ORIGIN_AIRPORT', 'DESTINATION_AIRPORT']]\n",
    "updated_flights = updated_flights.drop_duplicates(['AIRLINE', 'ORIGIN_AIRPORT', 'DESTINATION_AIRPORT'])\n",
    "updated_airports = airports[['IATA_CODE', 'AIRPORT', 'STATE', 'LATITUDE', 'LONGITUDE']]\n",
    "\n",
    "origin = pd.merge(updated_flights, updated_airports, left_on = \"ORIGIN_AIRPORT\", right_on = \"IATA_CODE\")\n",
    "origin = origin.sort_values(by = ['AIRLINE', 'ORIGIN_AIRPORT', 'DESTINATION_AIRPORT'])\n",
    "# modify columns' names\n",
    "origin = origin.rename(columns = {'LATITUDE':'LATITUDE_STAR', 'LONGITUDE':'LONGITUDE_STAR'})\n",
    "\n",
    "destination = pd.merge(updated_flights, updated_airports, left_on = \"DESTINATION_AIRPORT\", right_on = \"IATA_CODE\")\n",
    "destination = destination.sort_values(by = ['AIRLINE', 'ORIGIN_AIRPORT', 'DESTINATION_AIRPORT'])\n",
    "# modify columns' names\n",
    "destination = destination.rename(columns = {'LATITUDE':'LATITUDE_END', 'LONGITUDE':'LONGITUDE_END'})\n",
    "\n",
    "# create id columns for both origin and destination sets\n",
    "origin['ID'] = range(0, len(origin))\n",
    "destination['ID'] = range(0, len(destination))\n",
    "\n",
    "flights_path = pd.merge(origin, destination, on = \"ID\")\n",
    "flights_path = flights_path.rename(columns = {'AIRLINE_x':'AIRLINE', 'ORIGIN_AIRPORT_x':'ORIGIN_AIRPORT', \n",
    "                                                'DESTINATION_AIRPORT_x':'DESTINATION_AIRPORT', 'STATE_x':'STATE', \n",
    "                                                'AIRPORT_x':'AIRPORT'})\n",
    "flights_path = flights_path[['AIRLINE', 'ORIGIN_AIRPORT', 'DESTINATION_AIRPORT', 'AIRPORT', 'LATITUDE_STAR', \n",
    "             'LONGITUDE_STAR', 'LATITUDE_END', 'LONGITUDE_END', 'STATE']]\n",
    "\n",
    "# specify on airport\n",
    "filtered_flights_path = flights_path[flights_path['AIRPORT'] == 'University of Illinois - Willard Airport']\n",
    "# reset index\n",
    "filtered_flights_path = filtered_flights_path.reset_index()\n",
    "\n",
    "filtered_flights_path"
   ]
  },
  {
   "cell_type": "markdown",
   "metadata": {},
   "source": [
    "The test case screenshot:\n",
    "\n",
    "![test](https://uofi.box.com/shared/static/imjeji30pm2wte7ukw3d4wus9btzfh6p.png)"
   ]
  },
  {
   "cell_type": "markdown",
   "metadata": {},
   "source": [
    "The default setting screenshot:\n",
    "  \n",
    "![default](https://uofi.box.com/shared/static/t57r8ypqomy8betxc4av1egjec9ue8zv.png)"
   ]
  },
  {
   "cell_type": "markdown",
   "metadata": {},
   "source": [
    "## Conclusion & discussion\n",
    "\n",
    "Our web app sucessfully plots all the unique flight paths for selected departure airports. The test case also verifies the correctness of the result. However, there are some limitations of this web app: \n",
    "1. Not informative enough. For each selected airport, altough it displays all the unique flight paths for that airport, it is still hard to tell which flight paths associate with which airline.\n",
    "2. The layout of the graph seems to be dull.\n",
    "\n",
    "Future developers should address the limitations mentioned above. It would be better to add a chain call-back feature for users to select airlines upon selected departure airport. In that case, this option will help them identify which flight paths are provided by which airlines. Additionally, other color settings or thematic layouts that can improve the clearity of the graph should also be considered."
   ]
  }
 ],
 "metadata": {
  "kernelspec": {
   "display_name": "Python 3",
   "language": "python",
   "name": "python3"
  },
  "language_info": {
   "codemirror_mode": {
    "name": "ipython",
    "version": 3
   },
   "file_extension": ".py",
   "mimetype": "text/x-python",
   "name": "python",
   "nbconvert_exporter": "python",
   "pygments_lexer": "ipython3",
   "version": "3.8.3"
  }
 },
 "nbformat": 4,
 "nbformat_minor": 4
}
